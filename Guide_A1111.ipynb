{
  "nbformat": 4,
  "nbformat_minor": 0,
  "metadata": {
    "colab": {
      "provenance": [],
      "authorship_tag": "ABX9TyO7Ysi7E0ydXTeI7jTlX4NR",
      "include_colab_link": true
    },
    "kernelspec": {
      "name": "python3",
      "display_name": "Python 3"
    },
    "language_info": {
      "name": "python"
    }
  },
  "cells": [
    {
      "cell_type": "markdown",
      "metadata": {
        "id": "view-in-github",
        "colab_type": "text"
      },
      "source": [
        "<a href=\"https://colab.research.google.com/github/suncommq/guide-for-SDXL/blob/main/Guide_A1111.ipynb\" target=\"_parent\"><img src=\"https://colab.research.google.com/assets/colab-badge.svg\" alt=\"Open In Colab\"/></a>"
      ]
    },
    {
      "cell_type": "markdown",
      "source": [
        "[guide-for-SDXL\n",
        "/Guide_A1111](https://github.com/suncommq/guide-for-SDXL/blob/main/Guide_A1111.ipynb)\n",
        "\n",
        "<a href=\"https://github.com/suncommq/guide-for-SDXL/blob/main/Guide_A1111.ipynb\"><img src=\"https://lh7-rt.googleusercontent.com/docsz/AD_4nXdsOFMV0ocLn3kmSsT08pJu_D8XX0e2V7AbUbBA5D4JomFRraDE_TenM_hoUF0VWJJICB5VES034aOo15yNi0dacbMC4DrWiqV9b6HYcXCWkW1710HaFRKGC60aetP15yJWT33aYQ=rw?key=ptLZoJOSlLusAns4g_RxwScy\" align=\"right\" width=\"300\"></a>\n",
        "\n",
        "\n",
        "[Stable Diffusion Practical Guide Table of Contents](https://prompt-example.blogspot.com/p/stable-diffusion-practical-guide-table.html)\n",
        "\n",
        "Chapter 1 Let's learn about image generation AI\n",
        "\n",
        "1-1 Let's create images with AI\n",
        "\n",
        "1-2 The birth and evolution of image generation AI\n",
        "\n",
        "1-3 Let's think about the 'definition of AI' at the present time\n",
        "\n",
        "1-4 Let's learn about artificial neural networks\n",
        "\n",
        "1-5 Let's learn about the principle of image generation by the diffusion model\n",
        "\n",
        "\n",
        "Chapter 2 Let's start building the environment\n",
        "\n",
        "2-1 Let's prepare the environment to use Stable Diffusion\n",
        "\n",
        "2-2 Let's build the environment using Google Colab\n",
        "\n",
        "2-3 Let's build the Stability Matrix in the local environment\n",
        "\n",
        "2-4 Let's create images with simple words\n",
        "\n",
        "2-5 Download the model\n",
        "\n",
        "2-6 Download the VAE\n",
        "\n",
        "\n",
        "Chapter 3 Let's create images with prompts\n",
        "\n",
        "3-1 Create images as you think using prompts\n",
        "\n",
        "3-2 Build negative prompts\n",
        "\n",
        "3-3 Let's create images 'as you think'\n",
        "\n",
        "3-4 Let's increase the resolution of the image\n",
        "\n",
        "3-5 Let's adjust various parameters\n",
        "\n",
        "3-6 Let's test various prompts\n",
        "\n",
        "\n",
        "Chapter 4 Let's create images using images\n",
        "\n",
        "4-1 You can do it with img2img2 Let's figure out what's there\n",
        "\n",
        "3-2 Let's create an image using Sketch\n",
        "\n",
        "4-3 Let's edit an image using Inpaint\n",
        "\n",
        "4-4 Apply Inpaint to modify an image\n",
        "\n",
        "4-5 Extend an image using Outpainting\n",
        "\n",
        "4-6 Increase the resolution of an image using img2img\n",
        "\n",
        "4-7 Let's upscale with the extension function\n",
        "\n",
        "\n",
        "Chapter 5 Let's use ControlNet\n",
        "\n",
        "5-1 Let's learn about ControlNet\n",
        "\n",
        "5-2 Download and prepare ControlNet\n",
        "\n",
        "5-3 Create an image using ControlNet\n",
        "\n",
        "5-4 Understand the role of the preprocessor\n",
        "\n",
        "\n",
        "Chapter 6 Let's create and use LoRA\n",
        "\n",
        "6-1 Let's learn what we can do with additional learning\n",
        "\n",
        "6-2 Let's create an image using LoRA\n",
        "\n",
        "6-3 Create your own dedicated painting style LoRA\n",
        "\n",
        "6-4 Let's create various types of LoRA\n",
        "\n",
        "6-5 Let's evaluate the learning content\n",
        "\n",
        "\n",
        "Chapter 7 Let's use the image generation AI more"
      ],
    # Google Colab에서 Stable Diffusion 설치 및 실행 스크립트

# 1. 구글 드라이브 연결
from google.colab import drive
drive.mount('/content/drive')

# 2. Python 버전 체크 및 업데이트 (Python 3.10.6 설치)
!python --version
!apt update && apt install -y python3.10 python3.10-distutils
!update-alternatives --install /usr/bin/python3 python3 /usr/bin/python3.10 1
!update-alternatives --config python3
!python --version

# 3. AUTOMATIC1111의 Stable Diffusion WebUI 설치 또는 업데이트
import os
if not os.path.exists("/content/drive/MyDrive/stable-diffusion-webui"):
    !git clone https://github.com/AUTOMATIC1111/stable-diffusion-webui /content/drive/MyDrive/stable-diffusion-webui
else:
    %cd /content/drive/MyDrive/stable-diffusion-webui
    !git pull

# 4. Stable Diffusion 모델 다운로드 및 로드
model_path = "/content/drive/MyDrive/stable-diffusion-webui/models/Stable-diffusion"
os.makedirs(model_path, exist_ok=True)

!wget -O {model_path}/v1-5-pruned.ckpt \
    https://huggingface.co/runwayml/stable-diffusion-v1-5/resolve/main/v1-5-pruned.ckpt
!wget -O {model_path}/v1-5-pruned.vae.pt \
    https://huggingface.co/runwayml/stable-diffusion-v1-5/resolve/main/v1-5-pruned.vae.pt

# 5. 필수 패키지 설치
%cd /content/drive/MyDrive/stable-diffusion-webui
!pip install -r requirements.txt

# 6. Stable Diffusion 실행
!python launch.py --share
